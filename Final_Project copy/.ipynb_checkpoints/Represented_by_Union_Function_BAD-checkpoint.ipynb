{
 "cells": [
  {
   "cell_type": "code",
   "execution_count": 1,
   "metadata": {},
   "outputs": [],
   "source": [
    "import pandas as pd"
   ]
  },
  {
   "cell_type": "code",
   "execution_count": 2,
   "metadata": {},
   "outputs": [],
   "source": [
    "import re"
   ]
  },
  {
   "cell_type": "code",
   "execution_count": 64,
   "metadata": {},
   "outputs": [],
   "source": [
    "pd.set_option('display.max_colwidth', 500)\n"
   ]
  },
  {
   "cell_type": "code",
   "execution_count": 29,
   "metadata": {},
   "outputs": [],
   "source": [
    "l = [i for i in range(53)]"
   ]
  },
  {
   "cell_type": "code",
   "execution_count": 30,
   "metadata": {},
   "outputs": [],
   "source": [
    "df = pd.DataFrame(l)"
   ]
  },
  {
   "cell_type": "code",
   "execution_count": 32,
   "metadata": {},
   "outputs": [],
   "source": [
    "df['numbers'] = df"
   ]
  },
  {
   "cell_type": "code",
   "execution_count": 36,
   "metadata": {},
   "outputs": [],
   "source": [
    "df.drop(columns=0, inplace=True)"
   ]
  },
  {
   "cell_type": "code",
   "execution_count": 56,
   "metadata": {},
   "outputs": [],
   "source": [
    "df['numbers'] = df['numbers'].apply(str)"
   ]
  },
  {
   "cell_type": "code",
   "execution_count": 57,
   "metadata": {},
   "outputs": [
    {
     "data": {
      "text/plain": [
       "numbers    object\n",
       "dtype: object"
      ]
     },
     "execution_count": 57,
     "metadata": {},
     "output_type": "execute_result"
    }
   ],
   "source": [
    "df.dtypes"
   ]
  },
  {
   "cell_type": "code",
   "execution_count": 58,
   "metadata": {},
   "outputs": [],
   "source": [
    "def get_file_name(row):\n",
    "        file_name = ('/Users/TekendraMBP/Documents/Lede_Program/Databases/Final_Project/Percent_Represented_by_Unions/Percent_Represented_by_Unions_' + row['numbers'] + '.xlsx')\n",
    "        \n",
    "        return file_name"
   ]
  },
  {
   "cell_type": "code",
   "execution_count": 60,
   "metadata": {},
   "outputs": [],
   "source": [
    "df['file_name'] = df.apply(get_file_name , axis=1)\n"
   ]
  },
  {
   "cell_type": "code",
   "execution_count": 74,
   "metadata": {},
   "outputs": [],
   "source": [
    "df.drop([0] , inplace=True)"
   ]
  },
  {
   "cell_type": "code",
   "execution_count": 82,
   "metadata": {},
   "outputs": [],
   "source": [
    "def percent_represented_by_union_cleaner(row): \n",
    "    try:\n",
    "        workers = pd.ExcelFile(row['file_name'])\n",
    "        df = workers.parse('BLS Data Series')\n",
    "        pd.set_option('display.max_colwidth', 100)\n",
    "    \n",
    "        df.drop(columns='Unnamed: 2', inplace=True)\n",
    "        df.drop(columns='Unnamed: 3', inplace=True)\n",
    "        df.drop(columns='Unnamed: 4', inplace=True)\n",
    "        df.drop(columns='Unnamed: 5', inplace=True)\n",
    "   \n",
    "    \n",
    "    \n",
    "        df['Years'] = df['Union affiliation data from the Current Population Survey'][18:]\n",
    "   \n",
    "        df['Percent_Represented'] = df['Unnamed: 1'][18:]\n",
    "\n",
    "        df['Series_Title'] = df['Unnamed: 1'][3] \n",
    "\n",
    "        df['Union'] = df['Unnamed: 1'][5]\n",
    "\n",
    "        df['Industry'] = df['Unnamed: 1'][6] \n",
    "   \n",
    "        df['Earnings'] = df['Unnamed: 1'][12] \n",
    "  \n",
    "        df['Class_of_Worker'] = df['Unnamed: 1'][13] \n",
    "\n",
    "        df.drop(columns=\"Union affiliation data from the Current Population Survey\" , inplace=True)\n",
    "        df.drop(columns='Unnamed: 1' , inplace=True)\n",
    "    except:\n",
    "        print('error first half')\n",
    "    try:\n",
    "        df.set_index('Years', drop=True, append=False, inplace=True, verify_integrity=False)\n",
    "    except:\n",
    "        print('Error: Set Index')\n",
    "    try:\n",
    "        df['STUSPS'] = df['Series_Title'].str.extract(r' \\((\\w\\w)\\)')\n",
    "    except:\n",
    "        print('error: stusps')\n",
    "        df['State'] = df['Series_Title'].str.extract(r'\\(\\w\\w\\)(.*)')\n",
    "    try:\n",
    "        state = df.at[2000, 'State'].strip()\n",
    "    except:\n",
    "        print('error: naming state variable')\n",
    "    try:\n",
    "        return df.to_csv(state + \"_Represented_by_Union.csv\" , index=False)\n",
    "    except:\n",
    "        print('Error Returning')\n",
    "    \n",
    "\n",
    "\n",
    "\n",
    "\n",
    "\n",
    "    \n",
    "    \n",
    "    \n",
    "    \n",
    "\n",
    "\n"
   ]
  },
  {
   "cell_type": "code",
   "execution_count": 83,
   "metadata": {},
   "outputs": [
    {
     "name": "stdout",
     "output_type": "stream",
     "text": [
      "error: naming state variable\n",
      "Error Returning\n",
      "error: naming state variable\n",
      "Error Returning\n",
      "error: naming state variable\n",
      "Error Returning\n",
      "error: naming state variable\n",
      "Error Returning\n",
      "error: naming state variable\n",
      "Error Returning\n",
      "error: naming state variable\n",
      "Error Returning\n",
      "error: naming state variable\n",
      "Error Returning\n",
      "error: naming state variable\n",
      "Error Returning\n",
      "error: naming state variable\n",
      "Error Returning\n",
      "error: naming state variable\n",
      "Error Returning\n",
      "error: naming state variable\n",
      "Error Returning\n",
      "error: naming state variable\n",
      "Error Returning\n",
      "error: naming state variable\n",
      "Error Returning\n",
      "error: naming state variable\n",
      "Error Returning\n",
      "error: naming state variable\n",
      "Error Returning\n",
      "error: naming state variable\n",
      "Error Returning\n",
      "error: naming state variable\n",
      "Error Returning\n",
      "error: naming state variable\n",
      "Error Returning\n",
      "error: naming state variable\n",
      "Error Returning\n",
      "error: naming state variable\n",
      "Error Returning\n",
      "error: naming state variable\n",
      "Error Returning\n",
      "error: naming state variable\n",
      "Error Returning\n",
      "error: naming state variable\n",
      "Error Returning\n",
      "error: naming state variable\n",
      "Error Returning\n",
      "error: naming state variable\n",
      "Error Returning\n",
      "error: naming state variable\n",
      "Error Returning\n",
      "error: naming state variable\n",
      "Error Returning\n",
      "error: naming state variable\n",
      "Error Returning\n",
      "error: naming state variable\n",
      "Error Returning\n",
      "error: naming state variable\n",
      "Error Returning\n",
      "error: naming state variable\n",
      "Error Returning\n",
      "error: naming state variable\n",
      "Error Returning\n",
      "error: naming state variable\n",
      "Error Returning\n",
      "error: naming state variable\n",
      "Error Returning\n",
      "error: naming state variable\n",
      "Error Returning\n",
      "error: naming state variable\n",
      "Error Returning\n",
      "error: naming state variable\n",
      "Error Returning\n",
      "error: naming state variable\n",
      "Error Returning\n",
      "error: naming state variable\n",
      "Error Returning\n",
      "error: naming state variable\n",
      "Error Returning\n",
      "error: naming state variable\n",
      "Error Returning\n",
      "error: naming state variable\n",
      "Error Returning\n",
      "error: naming state variable\n",
      "Error Returning\n",
      "error: naming state variable\n",
      "Error Returning\n",
      "error: naming state variable\n",
      "Error Returning\n",
      "error: naming state variable\n",
      "Error Returning\n",
      "error: naming state variable\n",
      "Error Returning\n",
      "error: naming state variable\n",
      "Error Returning\n",
      "error: naming state variable\n",
      "Error Returning\n",
      "error: naming state variable\n",
      "Error Returning\n",
      "error: naming state variable\n",
      "Error Returning\n",
      "error: naming state variable\n",
      "Error Returning\n"
     ]
    },
    {
     "data": {
      "text/plain": [
       "1     None\n",
       "2     None\n",
       "3     None\n",
       "4     None\n",
       "5     None\n",
       "6     None\n",
       "7     None\n",
       "8     None\n",
       "9     None\n",
       "10    None\n",
       "11    None\n",
       "12    None\n",
       "13    None\n",
       "14    None\n",
       "15    None\n",
       "16    None\n",
       "17    None\n",
       "18    None\n",
       "19    None\n",
       "20    None\n",
       "21    None\n",
       "22    None\n",
       "23    None\n",
       "24    None\n",
       "25    None\n",
       "26    None\n",
       "27    None\n",
       "28    None\n",
       "29    None\n",
       "30    None\n",
       "31    None\n",
       "32    None\n",
       "33    None\n",
       "34    None\n",
       "35    None\n",
       "36    None\n",
       "37    None\n",
       "38    None\n",
       "39    None\n",
       "40    None\n",
       "41    None\n",
       "42    None\n",
       "43    None\n",
       "44    None\n",
       "45    None\n",
       "46    None\n",
       "47    None\n",
       "48    None\n",
       "49    None\n",
       "50    None\n",
       "51    None\n",
       "52    None\n",
       "dtype: object"
      ]
     },
     "execution_count": 83,
     "metadata": {},
     "output_type": "execute_result"
    }
   ],
   "source": [
    "df.apply(percent_represented_by_union_cleaner , axis=1)"
   ]
  },
  {
   "cell_type": "code",
   "execution_count": null,
   "metadata": {},
   "outputs": [],
   "source": []
  }
 ],
 "metadata": {
  "kernelspec": {
   "display_name": "Python 3",
   "language": "python",
   "name": "python3"
  },
  "language_info": {
   "codemirror_mode": {
    "name": "ipython",
    "version": 3
   },
   "file_extension": ".py",
   "mimetype": "text/x-python",
   "name": "python",
   "nbconvert_exporter": "python",
   "pygments_lexer": "ipython3",
   "version": "3.6.4"
  }
 },
 "nbformat": 4,
 "nbformat_minor": 2
}
