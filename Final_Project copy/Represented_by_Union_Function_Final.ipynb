{
 "cells": [
  {
   "cell_type": "code",
   "execution_count": 1,
   "metadata": {},
   "outputs": [],
   "source": [
    "import pandas as pd"
   ]
  },
  {
   "cell_type": "code",
   "execution_count": 2,
   "metadata": {},
   "outputs": [],
   "source": [
    "import re"
   ]
  },
  {
   "cell_type": "code",
   "execution_count": 3,
   "metadata": {},
   "outputs": [],
   "source": [
    "pd.set_option('display.max_colwidth', 500)\n"
   ]
  },
  {
   "cell_type": "code",
   "execution_count": 4,
   "metadata": {},
   "outputs": [],
   "source": [
    "l = [i for i in range(53)]"
   ]
  },
  {
   "cell_type": "code",
   "execution_count": 5,
   "metadata": {},
   "outputs": [],
   "source": [
    "df = pd.DataFrame(l)"
   ]
  },
  {
   "cell_type": "code",
   "execution_count": 6,
   "metadata": {},
   "outputs": [],
   "source": [
    "df['numbers'] = df"
   ]
  },
  {
   "cell_type": "code",
   "execution_count": 7,
   "metadata": {},
   "outputs": [],
   "source": [
    "df.drop(columns=0, inplace=True)"
   ]
  },
  {
   "cell_type": "code",
   "execution_count": 8,
   "metadata": {},
   "outputs": [],
   "source": [
    "df['numbers'] = df['numbers'].apply(str)"
   ]
  },
  {
   "cell_type": "code",
   "execution_count": 9,
   "metadata": {},
   "outputs": [
    {
     "data": {
      "text/plain": [
       "numbers    object\n",
       "dtype: object"
      ]
     },
     "execution_count": 9,
     "metadata": {},
     "output_type": "execute_result"
    }
   ],
   "source": [
    "df.dtypes"
   ]
  },
  {
   "cell_type": "code",
   "execution_count": 10,
   "metadata": {},
   "outputs": [],
   "source": [
    "def get_file_name(row):\n",
    "        file_name = ('/Users/TekendraMBP/Documents/Lede_Program/Databases/Final_Project/Percent_Represented_by_Unions/Percent_Represented_by_Unions_' + row['numbers'] + '.xlsx')\n",
    "        \n",
    "        return file_name"
   ]
  },
  {
   "cell_type": "code",
   "execution_count": 11,
   "metadata": {},
   "outputs": [],
   "source": [
    "df['file_name'] = df.apply(get_file_name , axis=1)\n"
   ]
  },
  {
   "cell_type": "code",
   "execution_count": 12,
   "metadata": {},
   "outputs": [],
   "source": [
    "df.drop([0] , inplace=True)"
   ]
  },
  {
   "cell_type": "code",
   "execution_count": 17,
   "metadata": {},
   "outputs": [],
   "source": [
    "def percent_represented_by_union_cleaner(row): \n",
    "    print(row)\n",
    "\n",
    "    workers = pd.ExcelFile(row['file_name'])\n",
    "    df = workers.parse('BLS Data Series')\n",
    "    pd.set_option('display.max_colwidth', 100)\n",
    "    \n",
    "    df.drop(columns='Unnamed: 2', inplace=True)\n",
    "    df.drop(columns='Unnamed: 3', inplace=True)\n",
    "    df.drop(columns='Unnamed: 4', inplace=True)\n",
    "    df.drop(columns='Unnamed: 5', inplace=True)\n",
    "   \n",
    "    \n",
    "    \n",
    "    df['Years'] = df['Union affiliation data from the Current Population Survey'][18:]\n",
    "   \n",
    "    df['Percent_Represented'] = df['Unnamed: 1'][18:]\n",
    "\n",
    "    df['Series_Title'] = df['Unnamed: 1'][3] \n",
    "\n",
    "    df['Union'] = df['Unnamed: 1'][5]\n",
    "\n",
    "    df.drop(columns=\"Union affiliation data from the Current Population Survey\" , inplace=True)\n",
    "    df.drop(columns='Unnamed: 1' , inplace=True)\n",
    "    \n",
    "    df = df.iloc[18:]\n",
    "\n",
    "\n",
    "    df = df.reset_index(drop=True)\n",
    "    \n",
    "    df['STUSPS'] = df['Series_Title'].str.extract(r' \\((\\w\\w)\\)')\n",
    "   \n",
    "    df['State'] = df['Series_Title'].str.extract(r'\\(\\w\\w\\)(.*)')\n",
    "    \n",
    "    df.drop(columns='Series_Title' , inplace=True)\n",
    "\n",
    "    state = df.at[1, 'STUSPS']\n",
    "  \n",
    "  \n",
    "    return df.to_csv(str(state).strip() + \"_Represented_by_Union.csv\" , index=False)\n",
    "\n",
    "\n",
    "\n",
    "\n",
    "\n",
    "\n",
    "    \n",
    "    \n",
    "    \n",
    "    \n",
    "\n",
    "\n"
   ]
  },
  {
   "cell_type": "code",
   "execution_count": 18,
   "metadata": {},
   "outputs": [
    {
     "name": "stdout",
     "output_type": "stream",
     "text": [
      "numbers                                                                                                        1\n",
      "file_name    /Users/TekendraMBP/Documents/Lede_Program/Databases/Final_Project/Percent_Represented_by_Unions/...\n",
      "Name: 1, dtype: object\n",
      "numbers                                                                                                        2\n",
      "file_name    /Users/TekendraMBP/Documents/Lede_Program/Databases/Final_Project/Percent_Represented_by_Unions/...\n",
      "Name: 2, dtype: object\n",
      "numbers                                                                                                        3\n",
      "file_name    /Users/TekendraMBP/Documents/Lede_Program/Databases/Final_Project/Percent_Represented_by_Unions/...\n",
      "Name: 3, dtype: object\n",
      "numbers                                                                                                        4\n",
      "file_name    /Users/TekendraMBP/Documents/Lede_Program/Databases/Final_Project/Percent_Represented_by_Unions/...\n",
      "Name: 4, dtype: object\n",
      "numbers                                                                                                        5\n",
      "file_name    /Users/TekendraMBP/Documents/Lede_Program/Databases/Final_Project/Percent_Represented_by_Unions/...\n",
      "Name: 5, dtype: object\n",
      "numbers                                                                                                        6\n",
      "file_name    /Users/TekendraMBP/Documents/Lede_Program/Databases/Final_Project/Percent_Represented_by_Unions/...\n",
      "Name: 6, dtype: object\n",
      "numbers                                                                                                        7\n",
      "file_name    /Users/TekendraMBP/Documents/Lede_Program/Databases/Final_Project/Percent_Represented_by_Unions/...\n",
      "Name: 7, dtype: object\n",
      "numbers                                                                                                        8\n",
      "file_name    /Users/TekendraMBP/Documents/Lede_Program/Databases/Final_Project/Percent_Represented_by_Unions/...\n",
      "Name: 8, dtype: object\n",
      "numbers                                                                                                        9\n",
      "file_name    /Users/TekendraMBP/Documents/Lede_Program/Databases/Final_Project/Percent_Represented_by_Unions/...\n",
      "Name: 9, dtype: object\n",
      "numbers                                                                                                       10\n",
      "file_name    /Users/TekendraMBP/Documents/Lede_Program/Databases/Final_Project/Percent_Represented_by_Unions/...\n",
      "Name: 10, dtype: object\n",
      "numbers                                                                                                       11\n",
      "file_name    /Users/TekendraMBP/Documents/Lede_Program/Databases/Final_Project/Percent_Represented_by_Unions/...\n",
      "Name: 11, dtype: object\n",
      "numbers                                                                                                       12\n",
      "file_name    /Users/TekendraMBP/Documents/Lede_Program/Databases/Final_Project/Percent_Represented_by_Unions/...\n",
      "Name: 12, dtype: object\n",
      "numbers                                                                                                       13\n",
      "file_name    /Users/TekendraMBP/Documents/Lede_Program/Databases/Final_Project/Percent_Represented_by_Unions/...\n",
      "Name: 13, dtype: object\n",
      "numbers                                                                                                       14\n",
      "file_name    /Users/TekendraMBP/Documents/Lede_Program/Databases/Final_Project/Percent_Represented_by_Unions/...\n",
      "Name: 14, dtype: object\n",
      "numbers                                                                                                       15\n",
      "file_name    /Users/TekendraMBP/Documents/Lede_Program/Databases/Final_Project/Percent_Represented_by_Unions/...\n",
      "Name: 15, dtype: object\n",
      "numbers                                                                                                       16\n",
      "file_name    /Users/TekendraMBP/Documents/Lede_Program/Databases/Final_Project/Percent_Represented_by_Unions/...\n",
      "Name: 16, dtype: object\n",
      "numbers                                                                                                       17\n",
      "file_name    /Users/TekendraMBP/Documents/Lede_Program/Databases/Final_Project/Percent_Represented_by_Unions/...\n",
      "Name: 17, dtype: object\n",
      "numbers                                                                                                       18\n",
      "file_name    /Users/TekendraMBP/Documents/Lede_Program/Databases/Final_Project/Percent_Represented_by_Unions/...\n",
      "Name: 18, dtype: object\n",
      "numbers                                                                                                       19\n",
      "file_name    /Users/TekendraMBP/Documents/Lede_Program/Databases/Final_Project/Percent_Represented_by_Unions/...\n",
      "Name: 19, dtype: object\n",
      "numbers                                                                                                       20\n",
      "file_name    /Users/TekendraMBP/Documents/Lede_Program/Databases/Final_Project/Percent_Represented_by_Unions/...\n",
      "Name: 20, dtype: object\n",
      "numbers                                                                                                       21\n",
      "file_name    /Users/TekendraMBP/Documents/Lede_Program/Databases/Final_Project/Percent_Represented_by_Unions/...\n",
      "Name: 21, dtype: object\n",
      "numbers                                                                                                       22\n",
      "file_name    /Users/TekendraMBP/Documents/Lede_Program/Databases/Final_Project/Percent_Represented_by_Unions/...\n",
      "Name: 22, dtype: object\n",
      "numbers                                                                                                       23\n",
      "file_name    /Users/TekendraMBP/Documents/Lede_Program/Databases/Final_Project/Percent_Represented_by_Unions/...\n",
      "Name: 23, dtype: object\n",
      "numbers                                                                                                       24\n",
      "file_name    /Users/TekendraMBP/Documents/Lede_Program/Databases/Final_Project/Percent_Represented_by_Unions/...\n",
      "Name: 24, dtype: object\n",
      "numbers                                                                                                       25\n",
      "file_name    /Users/TekendraMBP/Documents/Lede_Program/Databases/Final_Project/Percent_Represented_by_Unions/...\n",
      "Name: 25, dtype: object\n",
      "numbers                                                                                                       26\n",
      "file_name    /Users/TekendraMBP/Documents/Lede_Program/Databases/Final_Project/Percent_Represented_by_Unions/...\n",
      "Name: 26, dtype: object\n",
      "numbers                                                                                                       27\n",
      "file_name    /Users/TekendraMBP/Documents/Lede_Program/Databases/Final_Project/Percent_Represented_by_Unions/...\n",
      "Name: 27, dtype: object\n",
      "numbers                                                                                                       28\n",
      "file_name    /Users/TekendraMBP/Documents/Lede_Program/Databases/Final_Project/Percent_Represented_by_Unions/...\n",
      "Name: 28, dtype: object\n",
      "numbers                                                                                                       29\n",
      "file_name    /Users/TekendraMBP/Documents/Lede_Program/Databases/Final_Project/Percent_Represented_by_Unions/...\n",
      "Name: 29, dtype: object\n",
      "numbers                                                                                                       30\n",
      "file_name    /Users/TekendraMBP/Documents/Lede_Program/Databases/Final_Project/Percent_Represented_by_Unions/...\n",
      "Name: 30, dtype: object\n",
      "numbers                                                                                                       31\n",
      "file_name    /Users/TekendraMBP/Documents/Lede_Program/Databases/Final_Project/Percent_Represented_by_Unions/...\n",
      "Name: 31, dtype: object\n",
      "numbers                                                                                                       32\n",
      "file_name    /Users/TekendraMBP/Documents/Lede_Program/Databases/Final_Project/Percent_Represented_by_Unions/...\n",
      "Name: 32, dtype: object\n",
      "numbers                                                                                                       33\n",
      "file_name    /Users/TekendraMBP/Documents/Lede_Program/Databases/Final_Project/Percent_Represented_by_Unions/...\n",
      "Name: 33, dtype: object\n",
      "numbers                                                                                                       34\n",
      "file_name    /Users/TekendraMBP/Documents/Lede_Program/Databases/Final_Project/Percent_Represented_by_Unions/...\n",
      "Name: 34, dtype: object\n",
      "numbers                                                                                                       35\n",
      "file_name    /Users/TekendraMBP/Documents/Lede_Program/Databases/Final_Project/Percent_Represented_by_Unions/...\n",
      "Name: 35, dtype: object\n",
      "numbers                                                                                                       36\n",
      "file_name    /Users/TekendraMBP/Documents/Lede_Program/Databases/Final_Project/Percent_Represented_by_Unions/...\n",
      "Name: 36, dtype: object\n",
      "numbers                                                                                                       37\n",
      "file_name    /Users/TekendraMBP/Documents/Lede_Program/Databases/Final_Project/Percent_Represented_by_Unions/...\n",
      "Name: 37, dtype: object\n",
      "numbers                                                                                                       38\n",
      "file_name    /Users/TekendraMBP/Documents/Lede_Program/Databases/Final_Project/Percent_Represented_by_Unions/...\n",
      "Name: 38, dtype: object\n"
     ]
    },
    {
     "name": "stdout",
     "output_type": "stream",
     "text": [
      "numbers                                                                                                       39\n",
      "file_name    /Users/TekendraMBP/Documents/Lede_Program/Databases/Final_Project/Percent_Represented_by_Unions/...\n",
      "Name: 39, dtype: object\n",
      "numbers                                                                                                       40\n",
      "file_name    /Users/TekendraMBP/Documents/Lede_Program/Databases/Final_Project/Percent_Represented_by_Unions/...\n",
      "Name: 40, dtype: object\n",
      "numbers                                                                                                       41\n",
      "file_name    /Users/TekendraMBP/Documents/Lede_Program/Databases/Final_Project/Percent_Represented_by_Unions/...\n",
      "Name: 41, dtype: object\n",
      "numbers                                                                                                       42\n",
      "file_name    /Users/TekendraMBP/Documents/Lede_Program/Databases/Final_Project/Percent_Represented_by_Unions/...\n",
      "Name: 42, dtype: object\n",
      "numbers                                                                                                       43\n",
      "file_name    /Users/TekendraMBP/Documents/Lede_Program/Databases/Final_Project/Percent_Represented_by_Unions/...\n",
      "Name: 43, dtype: object\n",
      "numbers                                                                                                       44\n",
      "file_name    /Users/TekendraMBP/Documents/Lede_Program/Databases/Final_Project/Percent_Represented_by_Unions/...\n",
      "Name: 44, dtype: object\n",
      "numbers                                                                                                       45\n",
      "file_name    /Users/TekendraMBP/Documents/Lede_Program/Databases/Final_Project/Percent_Represented_by_Unions/...\n",
      "Name: 45, dtype: object\n",
      "numbers                                                                                                       46\n",
      "file_name    /Users/TekendraMBP/Documents/Lede_Program/Databases/Final_Project/Percent_Represented_by_Unions/...\n",
      "Name: 46, dtype: object\n",
      "numbers                                                                                                       47\n",
      "file_name    /Users/TekendraMBP/Documents/Lede_Program/Databases/Final_Project/Percent_Represented_by_Unions/...\n",
      "Name: 47, dtype: object\n",
      "numbers                                                                                                       48\n",
      "file_name    /Users/TekendraMBP/Documents/Lede_Program/Databases/Final_Project/Percent_Represented_by_Unions/...\n",
      "Name: 48, dtype: object\n",
      "numbers                                                                                                       49\n",
      "file_name    /Users/TekendraMBP/Documents/Lede_Program/Databases/Final_Project/Percent_Represented_by_Unions/...\n",
      "Name: 49, dtype: object\n",
      "numbers                                                                                                       50\n",
      "file_name    /Users/TekendraMBP/Documents/Lede_Program/Databases/Final_Project/Percent_Represented_by_Unions/...\n",
      "Name: 50, dtype: object\n",
      "numbers                                                                                                       51\n",
      "file_name    /Users/TekendraMBP/Documents/Lede_Program/Databases/Final_Project/Percent_Represented_by_Unions/...\n",
      "Name: 51, dtype: object\n",
      "numbers                                                                                                       52\n",
      "file_name    /Users/TekendraMBP/Documents/Lede_Program/Databases/Final_Project/Percent_Represented_by_Unions/...\n",
      "Name: 52, dtype: object\n"
     ]
    },
    {
     "data": {
      "text/plain": [
       "1     None\n",
       "2     None\n",
       "3     None\n",
       "4     None\n",
       "5     None\n",
       "6     None\n",
       "7     None\n",
       "8     None\n",
       "9     None\n",
       "10    None\n",
       "11    None\n",
       "12    None\n",
       "13    None\n",
       "14    None\n",
       "15    None\n",
       "16    None\n",
       "17    None\n",
       "18    None\n",
       "19    None\n",
       "20    None\n",
       "21    None\n",
       "22    None\n",
       "23    None\n",
       "24    None\n",
       "25    None\n",
       "26    None\n",
       "27    None\n",
       "28    None\n",
       "29    None\n",
       "30    None\n",
       "31    None\n",
       "32    None\n",
       "33    None\n",
       "34    None\n",
       "35    None\n",
       "36    None\n",
       "37    None\n",
       "38    None\n",
       "39    None\n",
       "40    None\n",
       "41    None\n",
       "42    None\n",
       "43    None\n",
       "44    None\n",
       "45    None\n",
       "46    None\n",
       "47    None\n",
       "48    None\n",
       "49    None\n",
       "50    None\n",
       "51    None\n",
       "52    None\n",
       "dtype: object"
      ]
     },
     "execution_count": 18,
     "metadata": {},
     "output_type": "execute_result"
    }
   ],
   "source": [
    "df.apply(percent_represented_by_union_cleaner , axis=1)"
   ]
  },
  {
   "cell_type": "code",
   "execution_count": null,
   "metadata": {},
   "outputs": [],
   "source": []
  }
 ],
 "metadata": {
  "kernelspec": {
   "display_name": "Python 3",
   "language": "python",
   "name": "python3"
  },
  "language_info": {
   "codemirror_mode": {
    "name": "ipython",
    "version": 3
   },
   "file_extension": ".py",
   "mimetype": "text/x-python",
   "name": "python",
   "nbconvert_exporter": "python",
   "pygments_lexer": "ipython3",
   "version": "3.6.4"
  }
 },
 "nbformat": 4,
 "nbformat_minor": 2
}
