{
 "cells": [
  {
   "cell_type": "code",
   "execution_count": 5,
   "metadata": {},
   "outputs": [],
   "source": [
    "from selenium import webdriver\n",
    "from selenium.webdriver.common.keys import Keys\n",
    "from selenium.webdriver.support.ui import Select\n",
    "from selenium.webdriver.support.ui import WebDriverWait\n",
    "\n",
    "import pandas as pd\n",
    "import time"
   ]
  },
  {
   "cell_type": "code",
   "execution_count": 6,
   "metadata": {},
   "outputs": [],
   "source": [
    "driver = webdriver.Chrome()\n",
    "\n",
    "driver.get('https://www.bls.gov/webapps/legacy/cpslutab5.htm')"
   ]
  },
  {
   "cell_type": "code",
   "execution_count": 7,
   "metadata": {},
   "outputs": [],
   "source": [
    "button_ttl_employed = driver.find_element_by_xpath('//*[@id=\"bls_checkall1\"]')"
   ]
  },
  {
   "cell_type": "code",
   "execution_count": 8,
   "metadata": {},
   "outputs": [],
   "source": [
    "button_ttl_employed.click()"
   ]
  },
  {
   "cell_type": "code",
   "execution_count": 9,
   "metadata": {},
   "outputs": [],
   "source": [
    "button_ttl_members_of_union = driver.find_element_by_xpath('//*[@id=\"bls_checkall2\"]')"
   ]
  },
  {
   "cell_type": "code",
   "execution_count": 10,
   "metadata": {},
   "outputs": [],
   "source": [
    "button_ttl_members_of_union.click()"
   ]
  },
  {
   "cell_type": "code",
   "execution_count": 11,
   "metadata": {},
   "outputs": [],
   "source": [
    "button_percent_employed_members_of_union = driver.find_element_by_xpath('//*[@id=\"bls_checkall3\"]')"
   ]
  },
  {
   "cell_type": "code",
   "execution_count": 12,
   "metadata": {},
   "outputs": [],
   "source": [
    "button_percent_employed_members_of_union.click()"
   ]
  },
  {
   "cell_type": "code",
   "execution_count": 13,
   "metadata": {},
   "outputs": [],
   "source": [
    "button_ttl_represented_by_union = driver.find_element_by_xpath('//*[@id=\"bls_checkall4\"]')"
   ]
  },
  {
   "cell_type": "code",
   "execution_count": 14,
   "metadata": {},
   "outputs": [],
   "source": [
    "button_ttl_represented_by_union.click()"
   ]
  },
  {
   "cell_type": "code",
   "execution_count": 15,
   "metadata": {},
   "outputs": [],
   "source": [
    "button_percent_employed_represented_by_union = driver.find_element_by_xpath('//*[@id=\"bls_checkall5\"]')"
   ]
  },
  {
   "cell_type": "code",
   "execution_count": 16,
   "metadata": {},
   "outputs": [],
   "source": [
    "button_percent_employed_represented_by_union.click()"
   ]
  },
  {
   "cell_type": "code",
   "execution_count": 17,
   "metadata": {},
   "outputs": [],
   "source": [
    "retrieve_data = driver.find_element_by_xpath('//*[@id=\"bodytext\"]/form/p[2]/input[1]')"
   ]
  },
  {
   "cell_type": "code",
   "execution_count": 18,
   "metadata": {},
   "outputs": [],
   "source": [
    "retrieve_data.click()"
   ]
  },
  {
   "cell_type": "markdown",
   "metadata": {},
   "source": [
    "<strong> Great, now let's click more buttons </strong>"
   ]
  },
  {
   "cell_type": "code",
   "execution_count": 19,
   "metadata": {},
   "outputs": [],
   "source": [
    "from selenium.webdriver.support.ui import Select\n",
    "select = Select(driver.find_element_by_xpath('//*[@id=\"bodytext\"]/table[1]/tbody/tr[1]/td[3]/font/select'))\n",
    "select.select_by_visible_text('2000')"
   ]
  },
  {
   "cell_type": "code",
   "execution_count": 20,
   "metadata": {},
   "outputs": [],
   "source": [
    "select1 = Select(driver.find_element_by_xpath('//*[@id=\"bodytext\"]/table[1]/tbody/tr[1]/td[5]/font/select'))"
   ]
  },
  {
   "cell_type": "code",
   "execution_count": 21,
   "metadata": {},
   "outputs": [],
   "source": [
    "select1.select_by_visible_text('2016')"
   ]
  },
  {
   "cell_type": "code",
   "execution_count": 22,
   "metadata": {},
   "outputs": [],
   "source": [
    "button_go = driver.find_element_by_xpath('//*[@id=\"bodytext\"]/table[1]/tbody/tr[1]/td[6]/input')"
   ]
  },
  {
   "cell_type": "code",
   "execution_count": 23,
   "metadata": {},
   "outputs": [],
   "source": [
    "button_go.click()"
   ]
  },
  {
   "cell_type": "markdown",
   "metadata": {},
   "source": [
    "<strong> Ok, now scraping code </strong>"
   ]
  },
  {
   "cell_type": "code",
   "execution_count": null,
   "metadata": {},
   "outputs": [],
   "source": []
  },
  {
   "cell_type": "code",
   "execution_count": 25,
   "metadata": {},
   "outputs": [
    {
     "data": {
      "text/plain": [
       "[<selenium.webdriver.remote.webelement.WebElement (session=\"ea2c4206601dac47569dfbb3cdf0fe33\", element=\"0.592463918536235-1\")>,\n",
       " <selenium.webdriver.remote.webelement.WebElement (session=\"ea2c4206601dac47569dfbb3cdf0fe33\", element=\"0.592463918536235-2\")>,\n",
       " <selenium.webdriver.remote.webelement.WebElement (session=\"ea2c4206601dac47569dfbb3cdf0fe33\", element=\"0.592463918536235-3\")>,\n",
       " <selenium.webdriver.remote.webelement.WebElement (session=\"ea2c4206601dac47569dfbb3cdf0fe33\", element=\"0.592463918536235-4\")>,\n",
       " <selenium.webdriver.remote.webelement.WebElement (session=\"ea2c4206601dac47569dfbb3cdf0fe33\", element=\"0.592463918536235-5\")>,\n",
       " <selenium.webdriver.remote.webelement.WebElement (session=\"ea2c4206601dac47569dfbb3cdf0fe33\", element=\"0.592463918536235-6\")>,\n",
       " <selenium.webdriver.remote.webelement.WebElement (session=\"ea2c4206601dac47569dfbb3cdf0fe33\", element=\"0.592463918536235-7\")>,\n",
       " <selenium.webdriver.remote.webelement.WebElement (session=\"ea2c4206601dac47569dfbb3cdf0fe33\", element=\"0.592463918536235-8\")>,\n",
       " <selenium.webdriver.remote.webelement.WebElement (session=\"ea2c4206601dac47569dfbb3cdf0fe33\", element=\"0.592463918536235-9\")>,\n",
       " <selenium.webdriver.remote.webelement.WebElement (session=\"ea2c4206601dac47569dfbb3cdf0fe33\", element=\"0.592463918536235-10\")>,\n",
       " <selenium.webdriver.remote.webelement.WebElement (session=\"ea2c4206601dac47569dfbb3cdf0fe33\", element=\"0.592463918536235-11\")>,\n",
       " <selenium.webdriver.remote.webelement.WebElement (session=\"ea2c4206601dac47569dfbb3cdf0fe33\", element=\"0.592463918536235-12\")>,\n",
       " <selenium.webdriver.remote.webelement.WebElement (session=\"ea2c4206601dac47569dfbb3cdf0fe33\", element=\"0.592463918536235-13\")>,\n",
       " <selenium.webdriver.remote.webelement.WebElement (session=\"ea2c4206601dac47569dfbb3cdf0fe33\", element=\"0.592463918536235-14\")>,\n",
       " <selenium.webdriver.remote.webelement.WebElement (session=\"ea2c4206601dac47569dfbb3cdf0fe33\", element=\"0.592463918536235-15\")>,\n",
       " <selenium.webdriver.remote.webelement.WebElement (session=\"ea2c4206601dac47569dfbb3cdf0fe33\", element=\"0.592463918536235-16\")>,\n",
       " <selenium.webdriver.remote.webelement.WebElement (session=\"ea2c4206601dac47569dfbb3cdf0fe33\", element=\"0.592463918536235-17\")>,\n",
       " <selenium.webdriver.remote.webelement.WebElement (session=\"ea2c4206601dac47569dfbb3cdf0fe33\", element=\"0.592463918536235-18\")>,\n",
       " <selenium.webdriver.remote.webelement.WebElement (session=\"ea2c4206601dac47569dfbb3cdf0fe33\", element=\"0.592463918536235-19\")>,\n",
       " <selenium.webdriver.remote.webelement.WebElement (session=\"ea2c4206601dac47569dfbb3cdf0fe33\", element=\"0.592463918536235-20\")>,\n",
       " <selenium.webdriver.remote.webelement.WebElement (session=\"ea2c4206601dac47569dfbb3cdf0fe33\", element=\"0.592463918536235-21\")>,\n",
       " <selenium.webdriver.remote.webelement.WebElement (session=\"ea2c4206601dac47569dfbb3cdf0fe33\", element=\"0.592463918536235-22\")>,\n",
       " <selenium.webdriver.remote.webelement.WebElement (session=\"ea2c4206601dac47569dfbb3cdf0fe33\", element=\"0.592463918536235-23\")>,\n",
       " <selenium.webdriver.remote.webelement.WebElement (session=\"ea2c4206601dac47569dfbb3cdf0fe33\", element=\"0.592463918536235-24\")>,\n",
       " <selenium.webdriver.remote.webelement.WebElement (session=\"ea2c4206601dac47569dfbb3cdf0fe33\", element=\"0.592463918536235-25\")>,\n",
       " <selenium.webdriver.remote.webelement.WebElement (session=\"ea2c4206601dac47569dfbb3cdf0fe33\", element=\"0.592463918536235-26\")>,\n",
       " <selenium.webdriver.remote.webelement.WebElement (session=\"ea2c4206601dac47569dfbb3cdf0fe33\", element=\"0.592463918536235-27\")>,\n",
       " <selenium.webdriver.remote.webelement.WebElement (session=\"ea2c4206601dac47569dfbb3cdf0fe33\", element=\"0.592463918536235-28\")>,\n",
       " <selenium.webdriver.remote.webelement.WebElement (session=\"ea2c4206601dac47569dfbb3cdf0fe33\", element=\"0.592463918536235-29\")>,\n",
       " <selenium.webdriver.remote.webelement.WebElement (session=\"ea2c4206601dac47569dfbb3cdf0fe33\", element=\"0.592463918536235-30\")>,\n",
       " <selenium.webdriver.remote.webelement.WebElement (session=\"ea2c4206601dac47569dfbb3cdf0fe33\", element=\"0.592463918536235-31\")>,\n",
       " <selenium.webdriver.remote.webelement.WebElement (session=\"ea2c4206601dac47569dfbb3cdf0fe33\", element=\"0.592463918536235-32\")>,\n",
       " <selenium.webdriver.remote.webelement.WebElement (session=\"ea2c4206601dac47569dfbb3cdf0fe33\", element=\"0.592463918536235-33\")>,\n",
       " <selenium.webdriver.remote.webelement.WebElement (session=\"ea2c4206601dac47569dfbb3cdf0fe33\", element=\"0.592463918536235-34\")>,\n",
       " <selenium.webdriver.remote.webelement.WebElement (session=\"ea2c4206601dac47569dfbb3cdf0fe33\", element=\"0.592463918536235-35\")>,\n",
       " <selenium.webdriver.remote.webelement.WebElement (session=\"ea2c4206601dac47569dfbb3cdf0fe33\", element=\"0.592463918536235-36\")>,\n",
       " <selenium.webdriver.remote.webelement.WebElement (session=\"ea2c4206601dac47569dfbb3cdf0fe33\", element=\"0.592463918536235-37\")>,\n",
       " <selenium.webdriver.remote.webelement.WebElement (session=\"ea2c4206601dac47569dfbb3cdf0fe33\", element=\"0.592463918536235-38\")>,\n",
       " <selenium.webdriver.remote.webelement.WebElement (session=\"ea2c4206601dac47569dfbb3cdf0fe33\", element=\"0.592463918536235-39\")>,\n",
       " <selenium.webdriver.remote.webelement.WebElement (session=\"ea2c4206601dac47569dfbb3cdf0fe33\", element=\"0.592463918536235-40\")>,\n",
       " <selenium.webdriver.remote.webelement.WebElement (session=\"ea2c4206601dac47569dfbb3cdf0fe33\", element=\"0.592463918536235-41\")>,\n",
       " <selenium.webdriver.remote.webelement.WebElement (session=\"ea2c4206601dac47569dfbb3cdf0fe33\", element=\"0.592463918536235-42\")>,\n",
       " <selenium.webdriver.remote.webelement.WebElement (session=\"ea2c4206601dac47569dfbb3cdf0fe33\", element=\"0.592463918536235-43\")>,\n",
       " <selenium.webdriver.remote.webelement.WebElement (session=\"ea2c4206601dac47569dfbb3cdf0fe33\", element=\"0.592463918536235-44\")>,\n",
       " <selenium.webdriver.remote.webelement.WebElement (session=\"ea2c4206601dac47569dfbb3cdf0fe33\", element=\"0.592463918536235-45\")>,\n",
       " <selenium.webdriver.remote.webelement.WebElement (session=\"ea2c4206601dac47569dfbb3cdf0fe33\", element=\"0.592463918536235-46\")>,\n",
       " <selenium.webdriver.remote.webelement.WebElement (session=\"ea2c4206601dac47569dfbb3cdf0fe33\", element=\"0.592463918536235-47\")>,\n",
       " <selenium.webdriver.remote.webelement.WebElement (session=\"ea2c4206601dac47569dfbb3cdf0fe33\", element=\"0.592463918536235-48\")>,\n",
       " <selenium.webdriver.remote.webelement.WebElement (session=\"ea2c4206601dac47569dfbb3cdf0fe33\", element=\"0.592463918536235-49\")>,\n",
       " <selenium.webdriver.remote.webelement.WebElement (session=\"ea2c4206601dac47569dfbb3cdf0fe33\", element=\"0.592463918536235-50\")>,\n",
       " <selenium.webdriver.remote.webelement.WebElement (session=\"ea2c4206601dac47569dfbb3cdf0fe33\", element=\"0.592463918536235-51\")>,\n",
       " <selenium.webdriver.remote.webelement.WebElement (session=\"ea2c4206601dac47569dfbb3cdf0fe33\", element=\"0.592463918536235-52\")>,\n",
       " <selenium.webdriver.remote.webelement.WebElement (session=\"ea2c4206601dac47569dfbb3cdf0fe33\", element=\"0.592463918536235-53\")>,\n",
       " <selenium.webdriver.remote.webelement.WebElement (session=\"ea2c4206601dac47569dfbb3cdf0fe33\", element=\"0.592463918536235-54\")>,\n",
       " <selenium.webdriver.remote.webelement.WebElement (session=\"ea2c4206601dac47569dfbb3cdf0fe33\", element=\"0.592463918536235-55\")>,\n",
       " <selenium.webdriver.remote.webelement.WebElement (session=\"ea2c4206601dac47569dfbb3cdf0fe33\", element=\"0.592463918536235-56\")>,\n",
       " <selenium.webdriver.remote.webelement.WebElement (session=\"ea2c4206601dac47569dfbb3cdf0fe33\", element=\"0.592463918536235-57\")>,\n",
       " <selenium.webdriver.remote.webelement.WebElement (session=\"ea2c4206601dac47569dfbb3cdf0fe33\", element=\"0.592463918536235-58\")>,\n",
       " <selenium.webdriver.remote.webelement.WebElement (session=\"ea2c4206601dac47569dfbb3cdf0fe33\", element=\"0.592463918536235-59\")>,\n",
       " <selenium.webdriver.remote.webelement.WebElement (session=\"ea2c4206601dac47569dfbb3cdf0fe33\", element=\"0.592463918536235-60\")>,\n",
       " <selenium.webdriver.remote.webelement.WebElement (session=\"ea2c4206601dac47569dfbb3cdf0fe33\", element=\"0.592463918536235-61\")>,\n",
       " <selenium.webdriver.remote.webelement.WebElement (session=\"ea2c4206601dac47569dfbb3cdf0fe33\", element=\"0.592463918536235-62\")>,\n",
       " <selenium.webdriver.remote.webelement.WebElement (session=\"ea2c4206601dac47569dfbb3cdf0fe33\", element=\"0.592463918536235-63\")>,\n",
       " <selenium.webdriver.remote.webelement.WebElement (session=\"ea2c4206601dac47569dfbb3cdf0fe33\", element=\"0.592463918536235-64\")>,\n",
       " <selenium.webdriver.remote.webelement.WebElement (session=\"ea2c4206601dac47569dfbb3cdf0fe33\", element=\"0.592463918536235-65\")>,\n",
       " <selenium.webdriver.remote.webelement.WebElement (session=\"ea2c4206601dac47569dfbb3cdf0fe33\", element=\"0.592463918536235-66\")>,\n",
       " <selenium.webdriver.remote.webelement.WebElement (session=\"ea2c4206601dac47569dfbb3cdf0fe33\", element=\"0.592463918536235-67\")>,\n",
       " <selenium.webdriver.remote.webelement.WebElement (session=\"ea2c4206601dac47569dfbb3cdf0fe33\", element=\"0.592463918536235-68\")>,\n",
       " <selenium.webdriver.remote.webelement.WebElement (session=\"ea2c4206601dac47569dfbb3cdf0fe33\", element=\"0.592463918536235-69\")>,\n",
       " <selenium.webdriver.remote.webelement.WebElement (session=\"ea2c4206601dac47569dfbb3cdf0fe33\", element=\"0.592463918536235-70\")>,\n",
       " <selenium.webdriver.remote.webelement.WebElement (session=\"ea2c4206601dac47569dfbb3cdf0fe33\", element=\"0.592463918536235-71\")>,\n",
       " <selenium.webdriver.remote.webelement.WebElement (session=\"ea2c4206601dac47569dfbb3cdf0fe33\", element=\"0.592463918536235-72\")>,\n",
       " <selenium.webdriver.remote.webelement.WebElement (session=\"ea2c4206601dac47569dfbb3cdf0fe33\", element=\"0.592463918536235-73\")>,\n",
       " <selenium.webdriver.remote.webelement.WebElement (session=\"ea2c4206601dac47569dfbb3cdf0fe33\", element=\"0.592463918536235-74\")>,\n",
       " <selenium.webdriver.remote.webelement.WebElement (session=\"ea2c4206601dac47569dfbb3cdf0fe33\", element=\"0.592463918536235-75\")>,\n",
       " <selenium.webdriver.remote.webelement.WebElement (session=\"ea2c4206601dac47569dfbb3cdf0fe33\", element=\"0.592463918536235-76\")>,\n",
       " <selenium.webdriver.remote.webelement.WebElement (session=\"ea2c4206601dac47569dfbb3cdf0fe33\", element=\"0.592463918536235-77\")>,\n",
       " <selenium.webdriver.remote.webelement.WebElement (session=\"ea2c4206601dac47569dfbb3cdf0fe33\", element=\"0.592463918536235-78\")>,\n",
       " <selenium.webdriver.remote.webelement.WebElement (session=\"ea2c4206601dac47569dfbb3cdf0fe33\", element=\"0.592463918536235-79\")>,\n",
       " <selenium.webdriver.remote.webelement.WebElement (session=\"ea2c4206601dac47569dfbb3cdf0fe33\", element=\"0.592463918536235-80\")>,\n",
       " <selenium.webdriver.remote.webelement.WebElement (session=\"ea2c4206601dac47569dfbb3cdf0fe33\", element=\"0.592463918536235-81\")>,\n",
       " <selenium.webdriver.remote.webelement.WebElement (session=\"ea2c4206601dac47569dfbb3cdf0fe33\", element=\"0.592463918536235-82\")>,\n",
       " <selenium.webdriver.remote.webelement.WebElement (session=\"ea2c4206601dac47569dfbb3cdf0fe33\", element=\"0.592463918536235-83\")>,\n",
       " <selenium.webdriver.remote.webelement.WebElement (session=\"ea2c4206601dac47569dfbb3cdf0fe33\", element=\"0.592463918536235-84\")>,\n",
       " <selenium.webdriver.remote.webelement.WebElement (session=\"ea2c4206601dac47569dfbb3cdf0fe33\", element=\"0.592463918536235-85\")>,\n",
       " <selenium.webdriver.remote.webelement.WebElement (session=\"ea2c4206601dac47569dfbb3cdf0fe33\", element=\"0.592463918536235-86\")>,\n",
       " <selenium.webdriver.remote.webelement.WebElement (session=\"ea2c4206601dac47569dfbb3cdf0fe33\", element=\"0.592463918536235-87\")>,\n",
       " <selenium.webdriver.remote.webelement.WebElement (session=\"ea2c4206601dac47569dfbb3cdf0fe33\", element=\"0.592463918536235-88\")>,\n",
       " <selenium.webdriver.remote.webelement.WebElement (session=\"ea2c4206601dac47569dfbb3cdf0fe33\", element=\"0.592463918536235-89\")>,\n",
       " <selenium.webdriver.remote.webelement.WebElement (session=\"ea2c4206601dac47569dfbb3cdf0fe33\", element=\"0.592463918536235-90\")>,\n",
       " <selenium.webdriver.remote.webelement.WebElement (session=\"ea2c4206601dac47569dfbb3cdf0fe33\", element=\"0.592463918536235-91\")>,\n",
       " <selenium.webdriver.remote.webelement.WebElement (session=\"ea2c4206601dac47569dfbb3cdf0fe33\", element=\"0.592463918536235-92\")>,\n",
       " <selenium.webdriver.remote.webelement.WebElement (session=\"ea2c4206601dac47569dfbb3cdf0fe33\", element=\"0.592463918536235-93\")>,\n",
       " <selenium.webdriver.remote.webelement.WebElement (session=\"ea2c4206601dac47569dfbb3cdf0fe33\", element=\"0.592463918536235-94\")>,\n",
       " <selenium.webdriver.remote.webelement.WebElement (session=\"ea2c4206601dac47569dfbb3cdf0fe33\", element=\"0.592463918536235-95\")>,\n",
       " <selenium.webdriver.remote.webelement.WebElement (session=\"ea2c4206601dac47569dfbb3cdf0fe33\", element=\"0.592463918536235-96\")>,\n",
       " <selenium.webdriver.remote.webelement.WebElement (session=\"ea2c4206601dac47569dfbb3cdf0fe33\", element=\"0.592463918536235-97\")>,\n",
       " <selenium.webdriver.remote.webelement.WebElement (session=\"ea2c4206601dac47569dfbb3cdf0fe33\", element=\"0.592463918536235-98\")>,\n",
       " <selenium.webdriver.remote.webelement.WebElement (session=\"ea2c4206601dac47569dfbb3cdf0fe33\", element=\"0.592463918536235-99\")>,\n",
       " <selenium.webdriver.remote.webelement.WebElement (session=\"ea2c4206601dac47569dfbb3cdf0fe33\", element=\"0.592463918536235-100\")>,\n",
       " <selenium.webdriver.remote.webelement.WebElement (session=\"ea2c4206601dac47569dfbb3cdf0fe33\", element=\"0.592463918536235-101\")>,\n",
       " <selenium.webdriver.remote.webelement.WebElement (session=\"ea2c4206601dac47569dfbb3cdf0fe33\", element=\"0.592463918536235-102\")>,\n",
       " <selenium.webdriver.remote.webelement.WebElement (session=\"ea2c4206601dac47569dfbb3cdf0fe33\", element=\"0.592463918536235-103\")>,\n",
       " <selenium.webdriver.remote.webelement.WebElement (session=\"ea2c4206601dac47569dfbb3cdf0fe33\", element=\"0.592463918536235-104\")>,\n",
       " <selenium.webdriver.remote.webelement.WebElement (session=\"ea2c4206601dac47569dfbb3cdf0fe33\", element=\"0.592463918536235-105\")>,\n",
       " <selenium.webdriver.remote.webelement.WebElement (session=\"ea2c4206601dac47569dfbb3cdf0fe33\", element=\"0.592463918536235-106\")>,\n",
       " <selenium.webdriver.remote.webelement.WebElement (session=\"ea2c4206601dac47569dfbb3cdf0fe33\", element=\"0.592463918536235-107\")>,\n",
       " <selenium.webdriver.remote.webelement.WebElement (session=\"ea2c4206601dac47569dfbb3cdf0fe33\", element=\"0.592463918536235-108\")>,\n",
       " <selenium.webdriver.remote.webelement.WebElement (session=\"ea2c4206601dac47569dfbb3cdf0fe33\", element=\"0.592463918536235-109\")>,\n",
       " <selenium.webdriver.remote.webelement.WebElement (session=\"ea2c4206601dac47569dfbb3cdf0fe33\", element=\"0.592463918536235-110\")>,\n",
       " <selenium.webdriver.remote.webelement.WebElement (session=\"ea2c4206601dac47569dfbb3cdf0fe33\", element=\"0.592463918536235-111\")>,\n",
       " <selenium.webdriver.remote.webelement.WebElement (session=\"ea2c4206601dac47569dfbb3cdf0fe33\", element=\"0.592463918536235-112\")>,\n",
       " <selenium.webdriver.remote.webelement.WebElement (session=\"ea2c4206601dac47569dfbb3cdf0fe33\", element=\"0.592463918536235-113\")>,\n",
       " <selenium.webdriver.remote.webelement.WebElement (session=\"ea2c4206601dac47569dfbb3cdf0fe33\", element=\"0.592463918536235-114\")>,\n",
       " <selenium.webdriver.remote.webelement.WebElement (session=\"ea2c4206601dac47569dfbb3cdf0fe33\", element=\"0.592463918536235-115\")>,\n",
       " <selenium.webdriver.remote.webelement.WebElement (session=\"ea2c4206601dac47569dfbb3cdf0fe33\", element=\"0.592463918536235-116\")>,\n",
       " <selenium.webdriver.remote.webelement.WebElement (session=\"ea2c4206601dac47569dfbb3cdf0fe33\", element=\"0.592463918536235-117\")>,\n",
       " <selenium.webdriver.remote.webelement.WebElement (session=\"ea2c4206601dac47569dfbb3cdf0fe33\", element=\"0.592463918536235-118\")>,\n",
       " <selenium.webdriver.remote.webelement.WebElement (session=\"ea2c4206601dac47569dfbb3cdf0fe33\", element=\"0.592463918536235-119\")>,\n",
       " <selenium.webdriver.remote.webelement.WebElement (session=\"ea2c4206601dac47569dfbb3cdf0fe33\", element=\"0.592463918536235-120\")>,\n",
       " <selenium.webdriver.remote.webelement.WebElement (session=\"ea2c4206601dac47569dfbb3cdf0fe33\", element=\"0.592463918536235-121\")>,\n",
       " <selenium.webdriver.remote.webelement.WebElement (session=\"ea2c4206601dac47569dfbb3cdf0fe33\", element=\"0.592463918536235-122\")>,\n",
       " <selenium.webdriver.remote.webelement.WebElement (session=\"ea2c4206601dac47569dfbb3cdf0fe33\", element=\"0.592463918536235-123\")>,\n",
       " <selenium.webdriver.remote.webelement.WebElement (session=\"ea2c4206601dac47569dfbb3cdf0fe33\", element=\"0.592463918536235-124\")>,\n",
       " <selenium.webdriver.remote.webelement.WebElement (session=\"ea2c4206601dac47569dfbb3cdf0fe33\", element=\"0.592463918536235-125\")>,\n",
       " <selenium.webdriver.remote.webelement.WebElement (session=\"ea2c4206601dac47569dfbb3cdf0fe33\", element=\"0.592463918536235-126\")>,\n",
       " <selenium.webdriver.remote.webelement.WebElement (session=\"ea2c4206601dac47569dfbb3cdf0fe33\", element=\"0.592463918536235-127\")>,\n",
       " <selenium.webdriver.remote.webelement.WebElement (session=\"ea2c4206601dac47569dfbb3cdf0fe33\", element=\"0.592463918536235-128\")>,\n",
       " <selenium.webdriver.remote.webelement.WebElement (session=\"ea2c4206601dac47569dfbb3cdf0fe33\", element=\"0.592463918536235-129\")>,\n",
       " <selenium.webdriver.remote.webelement.WebElement (session=\"ea2c4206601dac47569dfbb3cdf0fe33\", element=\"0.592463918536235-130\")>,\n",
       " <selenium.webdriver.remote.webelement.WebElement (session=\"ea2c4206601dac47569dfbb3cdf0fe33\", element=\"0.592463918536235-131\")>,\n",
       " <selenium.webdriver.remote.webelement.WebElement (session=\"ea2c4206601dac47569dfbb3cdf0fe33\", element=\"0.592463918536235-132\")>,\n",
       " <selenium.webdriver.remote.webelement.WebElement (session=\"ea2c4206601dac47569dfbb3cdf0fe33\", element=\"0.592463918536235-133\")>,\n",
       " <selenium.webdriver.remote.webelement.WebElement (session=\"ea2c4206601dac47569dfbb3cdf0fe33\", element=\"0.592463918536235-134\")>,\n",
       " <selenium.webdriver.remote.webelement.WebElement (session=\"ea2c4206601dac47569dfbb3cdf0fe33\", element=\"0.592463918536235-135\")>,\n",
       " <selenium.webdriver.remote.webelement.WebElement (session=\"ea2c4206601dac47569dfbb3cdf0fe33\", element=\"0.592463918536235-136\")>,\n",
       " <selenium.webdriver.remote.webelement.WebElement (session=\"ea2c4206601dac47569dfbb3cdf0fe33\", element=\"0.592463918536235-137\")>,\n",
       " <selenium.webdriver.remote.webelement.WebElement (session=\"ea2c4206601dac47569dfbb3cdf0fe33\", element=\"0.592463918536235-138\")>,\n",
       " <selenium.webdriver.remote.webelement.WebElement (session=\"ea2c4206601dac47569dfbb3cdf0fe33\", element=\"0.592463918536235-139\")>,\n",
       " <selenium.webdriver.remote.webelement.WebElement (session=\"ea2c4206601dac47569dfbb3cdf0fe33\", element=\"0.592463918536235-140\")>,\n",
       " <selenium.webdriver.remote.webelement.WebElement (session=\"ea2c4206601dac47569dfbb3cdf0fe33\", element=\"0.592463918536235-141\")>,\n",
       " <selenium.webdriver.remote.webelement.WebElement (session=\"ea2c4206601dac47569dfbb3cdf0fe33\", element=\"0.592463918536235-142\")>,\n",
       " <selenium.webdriver.remote.webelement.WebElement (session=\"ea2c4206601dac47569dfbb3cdf0fe33\", element=\"0.592463918536235-143\")>,\n",
       " <selenium.webdriver.remote.webelement.WebElement (session=\"ea2c4206601dac47569dfbb3cdf0fe33\", element=\"0.592463918536235-144\")>,\n",
       " <selenium.webdriver.remote.webelement.WebElement (session=\"ea2c4206601dac47569dfbb3cdf0fe33\", element=\"0.592463918536235-145\")>,\n",
       " <selenium.webdriver.remote.webelement.WebElement (session=\"ea2c4206601dac47569dfbb3cdf0fe33\", element=\"0.592463918536235-146\")>,\n",
       " <selenium.webdriver.remote.webelement.WebElement (session=\"ea2c4206601dac47569dfbb3cdf0fe33\", element=\"0.592463918536235-147\")>,\n",
       " <selenium.webdriver.remote.webelement.WebElement (session=\"ea2c4206601dac47569dfbb3cdf0fe33\", element=\"0.592463918536235-148\")>,\n",
       " <selenium.webdriver.remote.webelement.WebElement (session=\"ea2c4206601dac47569dfbb3cdf0fe33\", element=\"0.592463918536235-149\")>,\n",
       " <selenium.webdriver.remote.webelement.WebElement (session=\"ea2c4206601dac47569dfbb3cdf0fe33\", element=\"0.592463918536235-150\")>,\n",
       " <selenium.webdriver.remote.webelement.WebElement (session=\"ea2c4206601dac47569dfbb3cdf0fe33\", element=\"0.592463918536235-151\")>,\n",
       " <selenium.webdriver.remote.webelement.WebElement (session=\"ea2c4206601dac47569dfbb3cdf0fe33\", element=\"0.592463918536235-152\")>,\n",
       " <selenium.webdriver.remote.webelement.WebElement (session=\"ea2c4206601dac47569dfbb3cdf0fe33\", element=\"0.592463918536235-153\")>,\n",
       " <selenium.webdriver.remote.webelement.WebElement (session=\"ea2c4206601dac47569dfbb3cdf0fe33\", element=\"0.592463918536235-154\")>,\n",
       " <selenium.webdriver.remote.webelement.WebElement (session=\"ea2c4206601dac47569dfbb3cdf0fe33\", element=\"0.592463918536235-155\")>,\n",
       " <selenium.webdriver.remote.webelement.WebElement (session=\"ea2c4206601dac47569dfbb3cdf0fe33\", element=\"0.592463918536235-156\")>,\n",
       " <selenium.webdriver.remote.webelement.WebElement (session=\"ea2c4206601dac47569dfbb3cdf0fe33\", element=\"0.592463918536235-157\")>,\n",
       " <selenium.webdriver.remote.webelement.WebElement (session=\"ea2c4206601dac47569dfbb3cdf0fe33\", element=\"0.592463918536235-158\")>,\n",
       " <selenium.webdriver.remote.webelement.WebElement (session=\"ea2c4206601dac47569dfbb3cdf0fe33\", element=\"0.592463918536235-159\")>,\n",
       " <selenium.webdriver.remote.webelement.WebElement (session=\"ea2c4206601dac47569dfbb3cdf0fe33\", element=\"0.592463918536235-160\")>,\n",
       " <selenium.webdriver.remote.webelement.WebElement (session=\"ea2c4206601dac47569dfbb3cdf0fe33\", element=\"0.592463918536235-161\")>,\n",
       " <selenium.webdriver.remote.webelement.WebElement (session=\"ea2c4206601dac47569dfbb3cdf0fe33\", element=\"0.592463918536235-162\")>,\n",
       " <selenium.webdriver.remote.webelement.WebElement (session=\"ea2c4206601dac47569dfbb3cdf0fe33\", element=\"0.592463918536235-163\")>,\n",
       " <selenium.webdriver.remote.webelement.WebElement (session=\"ea2c4206601dac47569dfbb3cdf0fe33\", element=\"0.592463918536235-164\")>,\n",
       " <selenium.webdriver.remote.webelement.WebElement (session=\"ea2c4206601dac47569dfbb3cdf0fe33\", element=\"0.592463918536235-165\")>,\n",
       " <selenium.webdriver.remote.webelement.WebElement (session=\"ea2c4206601dac47569dfbb3cdf0fe33\", element=\"0.592463918536235-166\")>,\n",
       " <selenium.webdriver.remote.webelement.WebElement (session=\"ea2c4206601dac47569dfbb3cdf0fe33\", element=\"0.592463918536235-167\")>,\n",
       " <selenium.webdriver.remote.webelement.WebElement (session=\"ea2c4206601dac47569dfbb3cdf0fe33\", element=\"0.592463918536235-168\")>,\n",
       " <selenium.webdriver.remote.webelement.WebElement (session=\"ea2c4206601dac47569dfbb3cdf0fe33\", element=\"0.592463918536235-169\")>,\n",
       " <selenium.webdriver.remote.webelement.WebElement (session=\"ea2c4206601dac47569dfbb3cdf0fe33\", element=\"0.592463918536235-170\")>,\n",
       " <selenium.webdriver.remote.webelement.WebElement (session=\"ea2c4206601dac47569dfbb3cdf0fe33\", element=\"0.592463918536235-171\")>,\n",
       " <selenium.webdriver.remote.webelement.WebElement (session=\"ea2c4206601dac47569dfbb3cdf0fe33\", element=\"0.592463918536235-172\")>,\n",
       " <selenium.webdriver.remote.webelement.WebElement (session=\"ea2c4206601dac47569dfbb3cdf0fe33\", element=\"0.592463918536235-173\")>,\n",
       " <selenium.webdriver.remote.webelement.WebElement (session=\"ea2c4206601dac47569dfbb3cdf0fe33\", element=\"0.592463918536235-174\")>,\n",
       " <selenium.webdriver.remote.webelement.WebElement (session=\"ea2c4206601dac47569dfbb3cdf0fe33\", element=\"0.592463918536235-175\")>,\n",
       " <selenium.webdriver.remote.webelement.WebElement (session=\"ea2c4206601dac47569dfbb3cdf0fe33\", element=\"0.592463918536235-176\")>,\n",
       " <selenium.webdriver.remote.webelement.WebElement (session=\"ea2c4206601dac47569dfbb3cdf0fe33\", element=\"0.592463918536235-177\")>,\n",
       " <selenium.webdriver.remote.webelement.WebElement (session=\"ea2c4206601dac47569dfbb3cdf0fe33\", element=\"0.592463918536235-178\")>,\n",
       " <selenium.webdriver.remote.webelement.WebElement (session=\"ea2c4206601dac47569dfbb3cdf0fe33\", element=\"0.592463918536235-179\")>,\n",
       " <selenium.webdriver.remote.webelement.WebElement (session=\"ea2c4206601dac47569dfbb3cdf0fe33\", element=\"0.592463918536235-180\")>,\n",
       " <selenium.webdriver.remote.webelement.WebElement (session=\"ea2c4206601dac47569dfbb3cdf0fe33\", element=\"0.592463918536235-181\")>,\n",
       " <selenium.webdriver.remote.webelement.WebElement (session=\"ea2c4206601dac47569dfbb3cdf0fe33\", element=\"0.592463918536235-182\")>,\n",
       " <selenium.webdriver.remote.webelement.WebElement (session=\"ea2c4206601dac47569dfbb3cdf0fe33\", element=\"0.592463918536235-183\")>,\n",
       " <selenium.webdriver.remote.webelement.WebElement (session=\"ea2c4206601dac47569dfbb3cdf0fe33\", element=\"0.592463918536235-184\")>,\n",
       " <selenium.webdriver.remote.webelement.WebElement (session=\"ea2c4206601dac47569dfbb3cdf0fe33\", element=\"0.592463918536235-185\")>,\n",
       " <selenium.webdriver.remote.webelement.WebElement (session=\"ea2c4206601dac47569dfbb3cdf0fe33\", element=\"0.592463918536235-186\")>,\n",
       " <selenium.webdriver.remote.webelement.WebElement (session=\"ea2c4206601dac47569dfbb3cdf0fe33\", element=\"0.592463918536235-187\")>,\n",
       " <selenium.webdriver.remote.webelement.WebElement (session=\"ea2c4206601dac47569dfbb3cdf0fe33\", element=\"0.592463918536235-188\")>,\n",
       " <selenium.webdriver.remote.webelement.WebElement (session=\"ea2c4206601dac47569dfbb3cdf0fe33\", element=\"0.592463918536235-189\")>,\n",
       " <selenium.webdriver.remote.webelement.WebElement (session=\"ea2c4206601dac47569dfbb3cdf0fe33\", element=\"0.592463918536235-190\")>,\n",
       " <selenium.webdriver.remote.webelement.WebElement (session=\"ea2c4206601dac47569dfbb3cdf0fe33\", element=\"0.592463918536235-191\")>,\n",
       " <selenium.webdriver.remote.webelement.WebElement (session=\"ea2c4206601dac47569dfbb3cdf0fe33\", element=\"0.592463918536235-192\")>,\n",
       " <selenium.webdriver.remote.webelement.WebElement (session=\"ea2c4206601dac47569dfbb3cdf0fe33\", element=\"0.592463918536235-193\")>,\n",
       " <selenium.webdriver.remote.webelement.WebElement (session=\"ea2c4206601dac47569dfbb3cdf0fe33\", element=\"0.592463918536235-194\")>,\n",
       " <selenium.webdriver.remote.webelement.WebElement (session=\"ea2c4206601dac47569dfbb3cdf0fe33\", element=\"0.592463918536235-195\")>,\n",
       " <selenium.webdriver.remote.webelement.WebElement (session=\"ea2c4206601dac47569dfbb3cdf0fe33\", element=\"0.592463918536235-196\")>,\n",
       " <selenium.webdriver.remote.webelement.WebElement (session=\"ea2c4206601dac47569dfbb3cdf0fe33\", element=\"0.592463918536235-197\")>,\n",
       " <selenium.webdriver.remote.webelement.WebElement (session=\"ea2c4206601dac47569dfbb3cdf0fe33\", element=\"0.592463918536235-198\")>,\n",
       " <selenium.webdriver.remote.webelement.WebElement (session=\"ea2c4206601dac47569dfbb3cdf0fe33\", element=\"0.592463918536235-199\")>,\n",
       " <selenium.webdriver.remote.webelement.WebElement (session=\"ea2c4206601dac47569dfbb3cdf0fe33\", element=\"0.592463918536235-200\")>,\n",
       " <selenium.webdriver.remote.webelement.WebElement (session=\"ea2c4206601dac47569dfbb3cdf0fe33\", element=\"0.592463918536235-201\")>,\n",
       " <selenium.webdriver.remote.webelement.WebElement (session=\"ea2c4206601dac47569dfbb3cdf0fe33\", element=\"0.592463918536235-202\")>,\n",
       " <selenium.webdriver.remote.webelement.WebElement (session=\"ea2c4206601dac47569dfbb3cdf0fe33\", element=\"0.592463918536235-203\")>,\n",
       " <selenium.webdriver.remote.webelement.WebElement (session=\"ea2c4206601dac47569dfbb3cdf0fe33\", element=\"0.592463918536235-204\")>,\n",
       " <selenium.webdriver.remote.webelement.WebElement (session=\"ea2c4206601dac47569dfbb3cdf0fe33\", element=\"0.592463918536235-205\")>,\n",
       " <selenium.webdriver.remote.webelement.WebElement (session=\"ea2c4206601dac47569dfbb3cdf0fe33\", element=\"0.592463918536235-206\")>,\n",
       " <selenium.webdriver.remote.webelement.WebElement (session=\"ea2c4206601dac47569dfbb3cdf0fe33\", element=\"0.592463918536235-207\")>,\n",
       " <selenium.webdriver.remote.webelement.WebElement (session=\"ea2c4206601dac47569dfbb3cdf0fe33\", element=\"0.592463918536235-208\")>,\n",
       " <selenium.webdriver.remote.webelement.WebElement (session=\"ea2c4206601dac47569dfbb3cdf0fe33\", element=\"0.592463918536235-209\")>,\n",
       " <selenium.webdriver.remote.webelement.WebElement (session=\"ea2c4206601dac47569dfbb3cdf0fe33\", element=\"0.592463918536235-210\")>,\n",
       " <selenium.webdriver.remote.webelement.WebElement (session=\"ea2c4206601dac47569dfbb3cdf0fe33\", element=\"0.592463918536235-211\")>,\n",
       " <selenium.webdriver.remote.webelement.WebElement (session=\"ea2c4206601dac47569dfbb3cdf0fe33\", element=\"0.592463918536235-212\")>,\n",
       " <selenium.webdriver.remote.webelement.WebElement (session=\"ea2c4206601dac47569dfbb3cdf0fe33\", element=\"0.592463918536235-213\")>,\n",
       " <selenium.webdriver.remote.webelement.WebElement (session=\"ea2c4206601dac47569dfbb3cdf0fe33\", element=\"0.592463918536235-214\")>,\n",
       " <selenium.webdriver.remote.webelement.WebElement (session=\"ea2c4206601dac47569dfbb3cdf0fe33\", element=\"0.592463918536235-215\")>,\n",
       " <selenium.webdriver.remote.webelement.WebElement (session=\"ea2c4206601dac47569dfbb3cdf0fe33\", element=\"0.592463918536235-216\")>,\n",
       " <selenium.webdriver.remote.webelement.WebElement (session=\"ea2c4206601dac47569dfbb3cdf0fe33\", element=\"0.592463918536235-217\")>,\n",
       " <selenium.webdriver.remote.webelement.WebElement (session=\"ea2c4206601dac47569dfbb3cdf0fe33\", element=\"0.592463918536235-218\")>,\n",
       " <selenium.webdriver.remote.webelement.WebElement (session=\"ea2c4206601dac47569dfbb3cdf0fe33\", element=\"0.592463918536235-219\")>,\n",
       " <selenium.webdriver.remote.webelement.WebElement (session=\"ea2c4206601dac47569dfbb3cdf0fe33\", element=\"0.592463918536235-220\")>,\n",
       " <selenium.webdriver.remote.webelement.WebElement (session=\"ea2c4206601dac47569dfbb3cdf0fe33\", element=\"0.592463918536235-221\")>,\n",
       " <selenium.webdriver.remote.webelement.WebElement (session=\"ea2c4206601dac47569dfbb3cdf0fe33\", element=\"0.592463918536235-222\")>,\n",
       " <selenium.webdriver.remote.webelement.WebElement (session=\"ea2c4206601dac47569dfbb3cdf0fe33\", element=\"0.592463918536235-223\")>,\n",
       " <selenium.webdriver.remote.webelement.WebElement (session=\"ea2c4206601dac47569dfbb3cdf0fe33\", element=\"0.592463918536235-224\")>,\n",
       " <selenium.webdriver.remote.webelement.WebElement (session=\"ea2c4206601dac47569dfbb3cdf0fe33\", element=\"0.592463918536235-225\")>,\n",
       " <selenium.webdriver.remote.webelement.WebElement (session=\"ea2c4206601dac47569dfbb3cdf0fe33\", element=\"0.592463918536235-226\")>,\n",
       " <selenium.webdriver.remote.webelement.WebElement (session=\"ea2c4206601dac47569dfbb3cdf0fe33\", element=\"0.592463918536235-227\")>,\n",
       " <selenium.webdriver.remote.webelement.WebElement (session=\"ea2c4206601dac47569dfbb3cdf0fe33\", element=\"0.592463918536235-228\")>,\n",
       " <selenium.webdriver.remote.webelement.WebElement (session=\"ea2c4206601dac47569dfbb3cdf0fe33\", element=\"0.592463918536235-229\")>,\n",
       " <selenium.webdriver.remote.webelement.WebElement (session=\"ea2c4206601dac47569dfbb3cdf0fe33\", element=\"0.592463918536235-230\")>,\n",
       " <selenium.webdriver.remote.webelement.WebElement (session=\"ea2c4206601dac47569dfbb3cdf0fe33\", element=\"0.592463918536235-231\")>,\n",
       " <selenium.webdriver.remote.webelement.WebElement (session=\"ea2c4206601dac47569dfbb3cdf0fe33\", element=\"0.592463918536235-232\")>,\n",
       " <selenium.webdriver.remote.webelement.WebElement (session=\"ea2c4206601dac47569dfbb3cdf0fe33\", element=\"0.592463918536235-233\")>,\n",
       " <selenium.webdriver.remote.webelement.WebElement (session=\"ea2c4206601dac47569dfbb3cdf0fe33\", element=\"0.592463918536235-234\")>,\n",
       " <selenium.webdriver.remote.webelement.WebElement (session=\"ea2c4206601dac47569dfbb3cdf0fe33\", element=\"0.592463918536235-235\")>,\n",
       " <selenium.webdriver.remote.webelement.WebElement (session=\"ea2c4206601dac47569dfbb3cdf0fe33\", element=\"0.592463918536235-236\")>,\n",
       " <selenium.webdriver.remote.webelement.WebElement (session=\"ea2c4206601dac47569dfbb3cdf0fe33\", element=\"0.592463918536235-237\")>,\n",
       " <selenium.webdriver.remote.webelement.WebElement (session=\"ea2c4206601dac47569dfbb3cdf0fe33\", element=\"0.592463918536235-238\")>,\n",
       " <selenium.webdriver.remote.webelement.WebElement (session=\"ea2c4206601dac47569dfbb3cdf0fe33\", element=\"0.592463918536235-239\")>,\n",
       " <selenium.webdriver.remote.webelement.WebElement (session=\"ea2c4206601dac47569dfbb3cdf0fe33\", element=\"0.592463918536235-240\")>,\n",
       " <selenium.webdriver.remote.webelement.WebElement (session=\"ea2c4206601dac47569dfbb3cdf0fe33\", element=\"0.592463918536235-241\")>,\n",
       " <selenium.webdriver.remote.webelement.WebElement (session=\"ea2c4206601dac47569dfbb3cdf0fe33\", element=\"0.592463918536235-242\")>,\n",
       " <selenium.webdriver.remote.webelement.WebElement (session=\"ea2c4206601dac47569dfbb3cdf0fe33\", element=\"0.592463918536235-243\")>,\n",
       " <selenium.webdriver.remote.webelement.WebElement (session=\"ea2c4206601dac47569dfbb3cdf0fe33\", element=\"0.592463918536235-244\")>,\n",
       " <selenium.webdriver.remote.webelement.WebElement (session=\"ea2c4206601dac47569dfbb3cdf0fe33\", element=\"0.592463918536235-245\")>,\n",
       " <selenium.webdriver.remote.webelement.WebElement (session=\"ea2c4206601dac47569dfbb3cdf0fe33\", element=\"0.592463918536235-246\")>,\n",
       " <selenium.webdriver.remote.webelement.WebElement (session=\"ea2c4206601dac47569dfbb3cdf0fe33\", element=\"0.592463918536235-247\")>,\n",
       " <selenium.webdriver.remote.webelement.WebElement (session=\"ea2c4206601dac47569dfbb3cdf0fe33\", element=\"0.592463918536235-248\")>,\n",
       " <selenium.webdriver.remote.webelement.WebElement (session=\"ea2c4206601dac47569dfbb3cdf0fe33\", element=\"0.592463918536235-249\")>,\n",
       " <selenium.webdriver.remote.webelement.WebElement (session=\"ea2c4206601dac47569dfbb3cdf0fe33\", element=\"0.592463918536235-250\")>,\n",
       " <selenium.webdriver.remote.webelement.WebElement (session=\"ea2c4206601dac47569dfbb3cdf0fe33\", element=\"0.592463918536235-251\")>,\n",
       " <selenium.webdriver.remote.webelement.WebElement (session=\"ea2c4206601dac47569dfbb3cdf0fe33\", element=\"0.592463918536235-252\")>,\n",
       " <selenium.webdriver.remote.webelement.WebElement (session=\"ea2c4206601dac47569dfbb3cdf0fe33\", element=\"0.592463918536235-253\")>,\n",
       " <selenium.webdriver.remote.webelement.WebElement (session=\"ea2c4206601dac47569dfbb3cdf0fe33\", element=\"0.592463918536235-254\")>,\n",
       " <selenium.webdriver.remote.webelement.WebElement (session=\"ea2c4206601dac47569dfbb3cdf0fe33\", element=\"0.592463918536235-255\")>,\n",
       " <selenium.webdriver.remote.webelement.WebElement (session=\"ea2c4206601dac47569dfbb3cdf0fe33\", element=\"0.592463918536235-256\")>,\n",
       " <selenium.webdriver.remote.webelement.WebElement (session=\"ea2c4206601dac47569dfbb3cdf0fe33\", element=\"0.592463918536235-257\")>,\n",
       " <selenium.webdriver.remote.webelement.WebElement (session=\"ea2c4206601dac47569dfbb3cdf0fe33\", element=\"0.592463918536235-258\")>,\n",
       " <selenium.webdriver.remote.webelement.WebElement (session=\"ea2c4206601dac47569dfbb3cdf0fe33\", element=\"0.592463918536235-259\")>,\n",
       " <selenium.webdriver.remote.webelement.WebElement (session=\"ea2c4206601dac47569dfbb3cdf0fe33\", element=\"0.592463918536235-260\")>]"
      ]
     },
     "execution_count": 25,
     "metadata": {},
     "output_type": "execute_result"
    }
   ],
   "source": [
    "driver.find_elements_by_id('download_xlsx')"
   ]
  },
  {
   "cell_type": "code",
   "execution_count": 26,
   "metadata": {},
   "outputs": [
    {
     "name": "stdout",
     "output_type": "stream",
     "text": [
      "260\n"
     ]
    }
   ],
   "source": [
    "count = 0\n",
    "for buttons in driver.find_elements_by_id('download_xlsx'):\n",
    "    driver.execute_script(\"arguments[0].scrollIntoView(true)\", buttons)\n",
    "    time.sleep(3)\n",
    "    buttons.click()\n",
    "    count = count + 1\n",
    "print(count)\n",
    "\n",
    "    \n"
   ]
  },
  {
   "cell_type": "code",
   "execution_count": null,
   "metadata": {},
   "outputs": [],
   "source": []
  },
  {
   "cell_type": "code",
   "execution_count": null,
   "metadata": {},
   "outputs": [],
   "source": []
  }
 ],
 "metadata": {
  "kernelspec": {
   "display_name": "Python 3",
   "language": "python",
   "name": "python3"
  },
  "language_info": {
   "codemirror_mode": {
    "name": "ipython",
    "version": 3
   },
   "file_extension": ".py",
   "mimetype": "text/x-python",
   "name": "python",
   "nbconvert_exporter": "python",
   "pygments_lexer": "ipython3",
   "version": "3.6.4"
  }
 },
 "nbformat": 4,
 "nbformat_minor": 2
}
