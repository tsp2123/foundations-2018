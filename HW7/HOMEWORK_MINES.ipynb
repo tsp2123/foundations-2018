{
 "cells": [
  {
   "cell_type": "markdown",
   "metadata": {},
   "source": [
    "# Mine Safety\n",
    "\n",
    "We're interested in [US mine safety](https://arlweb.msha.gov/drs/drshome.htm), thank goodness we can search for these things."
   ]
  },
  {
   "cell_type": "markdown",
   "metadata": {},
   "source": [
    "## Setup: Import what you'll need to search and scrape and Selenium"
   ]
  },
  {
   "cell_type": "code",
   "execution_count": 14,
   "metadata": {},
   "outputs": [],
   "source": [
    "from selenium import webdriver\n",
    "from selenium.webdriver.common.keys import Keys\n",
    "from selenium.webdriver.support.ui import Select\n",
    "from selenium.webdriver.support.ui import WebDriverWait\n",
    "\n",
    "import pandas as pd\n",
    "\n",
    "import requests\n",
    "from bs4 import BeautifulSoup"
   ]
  },
  {
   "cell_type": "markdown",
   "metadata": {},
   "source": [
    "## Starting from `https://arlweb.msha.gov/drs/drshome.htm`, search for every operator with 'dirt' in their name, including abandoned mines.\n",
    "\n",
    "> - *Tip: If you can't make an element work using name, class or ID, try to use the XPath*"
   ]
  },
  {
   "cell_type": "code",
   "execution_count": 3,
   "metadata": {},
   "outputs": [],
   "source": [
    "driver = webdriver.Chrome()"
   ]
  },
  {
   "cell_type": "code",
   "execution_count": 10,
   "metadata": {},
   "outputs": [],
   "source": [
    "driver.get('https://arlweb.msha.gov/drs/drshome.htm')"
   ]
  },
  {
   "cell_type": "code",
   "execution_count": 11,
   "metadata": {},
   "outputs": [],
   "source": [
    "text_input = driver.find_element_by_name('OperSearch')"
   ]
  },
  {
   "cell_type": "code",
   "execution_count": 12,
   "metadata": {},
   "outputs": [],
   "source": [
    "text_input.send_keys('dirt')"
   ]
  },
  {
   "cell_type": "code",
   "execution_count": 13,
   "metadata": {},
   "outputs": [],
   "source": [
    "search = driver.find_element_by_xpath('//*[@id=\"content\"]/form[1]/table/tbody/tr[7]/td[3]/input[1]')\n",
    "search.click()"
   ]
  },
  {
   "cell_type": "code",
   "execution_count": null,
   "metadata": {},
   "outputs": [],
   "source": []
  },
  {
   "cell_type": "markdown",
   "metadata": {},
   "source": [
    "## Scrape the results page, saving it as `dirt-operators.csv`\n",
    "\n",
    "> - *Tip: Think about what each row in your dataset will be, and start by looping through that*\n",
    "> - *Tip: Printing is cool and good! Print everything! Move it into a dictionary later.*\n",
    "> - *Tip: If you don't want a row, think about what's in the row that makes it different. You can use an `if` statement or list slicing to skip the ones you aren't interested in.*\n",
    "> - *Tip: Make sure your dictionary and your loop variable have DIFFERENT NAMES*\n",
    "> - *Tip: After you've made your dictionary (and printed it, of course), you'll want to add it to your list of rows*\n",
    "> - *Tip: Be sure to import pandas to convert it to a dataframe*\n",
    "> - *Tip: Make sure you don't include the index when saving your dataframe*"
   ]
  },
  {
   "cell_type": "markdown",
   "metadata": {},
   "source": [
    "### Hopefully you know that each `tr` is supposed to be a row of your data. What is the index of the first row element that is actually a result?\n",
    "\n",
    "`.text` will help you here."
   ]
  },
  {
   "cell_type": "code",
   "execution_count": 25,
   "metadata": {},
   "outputs": [
    {
     "name": "stdout",
     "output_type": "stream",
     "text": [
      "Operator Name or Mine Name\n",
      "Search  \n",
      "Abandoned*\n",
      "Indicates Mine is Abandoned and Sealed\n",
      "*CM (Coal or Metal Mine/Nonmetal Mine)\n",
      "C\n",
      "M ...... Coal\n",
      "...... Metal/Nonmetal\n",
      "Abandoned*\n",
      "Indicates Mine is Abandoned and Sealed\n",
      "*CM (Coal or Metal Mine/Nonmetal Mine)\n",
      "C\n",
      "M ...... Coal\n",
      "...... Metal/Nonmetal\n",
      "ID State Operator Mine Name Type CM* Status Commodity More Info\n",
      "3503598\n",
      "OR  Newberg Rock & Dirt   Newberg Rock & Dirt Surface M  Active  Crushed, Broken Stone NEC \n",
      "1401575\n",
      "KS  Bender Sand & Dirt   BENDER SAND & DIRT Surface M  Intermittent  Construction Sand and Gravel \n",
      "5001797\n",
      "AK  Dirt Company   Bush Pilot Surface M  Intermittent  Construction Sand and Gravel \n",
      "2103723\n",
      "MN  Dirt Doctor Inc   Rock Lake Plant Surface M  Intermittent  Construction Sand and Gravel \n",
      "2103914\n",
      "MN  Dirt Work Specialists LLC   Astec Plant Surface M  Intermittent  Construction Sand and Gravel \n",
      "4104757\n",
      "TX  Dirt Works   Portable #1 Surface M  Intermittent  Construction Sand and Gravel \n",
      "0801306\n",
      "FL  Holley Dirt Company, Inc   River Road Pit Surface M  Active  Sand, Common \n",
      "3901432\n",
      "SD  Krueger Brothers Gravel & Dirt   PORTABLE SCREENER Surface M  Intermittent  Construction Sand and Gravel \n",
      "3609624\n",
      "PA  M R Dirt   Forbes Pit Surface M  Temporarily Idled  Construction Sand and Gravel \n",
      "3609931\n",
      "PA  M.R. Dirt Inc.   Camptown Quarry Surface M  Intermittent  Dimension Stone NEC \n",
      "1519799\n",
      "KY  P B Dirt Movers, Inc   Fedscreek Surface Surface C  Active  Coal (Bituminous) \n",
      "4407379\n",
      "VA  P B Dirt Movers, Inc.   No. 3 Surface C  New Mine   \n",
      "4407296\n",
      "VA  PB Dirt Movers   Mine No. 6 Underground C  Temporarily Idled  Coal (Bituminous) \n",
      "0203332\n",
      "AZ  Prescott Dirt, LLC   Sandretto Drive Surface M  Intermittent  Construction Sand and Gravel \n",
      "2901986\n",
      "NM  R D Blankenship Dirt Work LLC   R D BLANKENSHIP DIRT WORK Surface M  Active  Construction Sand and Gravel \n",
      "0801417\n",
      "FL  Sand & Dirt, Inc   Molino Pit Surface M  Active  Sand, Common \n",
      "4300768\n",
      "VT  SIMPSON DIRTWORX LLC   Pettibone Jaw Crusher Surface M  Intermittent  Construction Sand and Gravel \n",
      "4300776\n",
      "VT  SIMPSON DIRTWORX LLC   Chieftan 1400 Surface M  Intermittent  Construction Sand and Gravel \n",
      "2302283\n",
      "MO  Spry's Dirt & Gravel, Inc.   Mike's Money Pit Surface M  Intermittent  Construction Sand and Gravel \n",
      "2103518\n",
      "MN  Vogt Dirt Service   Crusher Surface M  Intermittent  Construction Sand and Gravel \n",
      "Total Number of Mines Found:  20\n"
     ]
    }
   ],
   "source": [
    "for rows in driver.find_elements_by_tag_name('tr'):\n",
    "    print(rows.text)\n"
   ]
  },
  {
   "cell_type": "code",
   "execution_count": null,
   "metadata": {
    "collapsed": true
   },
   "outputs": [],
   "source": []
  },
  {
   "cell_type": "markdown",
   "metadata": {},
   "source": [
    "### Loop through each operator result, printing its name\n",
    "\n",
    "You can use list slicing or an `if` statement to skip the non-data row(s)."
   ]
  },
  {
   "cell_type": "code",
   "execution_count": null,
   "metadata": {
    "collapsed": true
   },
   "outputs": [],
   "source": []
  },
  {
   "cell_type": "markdown",
   "metadata": {},
   "source": [
    "### Loop through each operator result, printing its ID\n",
    "\n",
    "There should be ONE code per row, and NO empty rows between them."
   ]
  },
  {
   "cell_type": "code",
   "execution_count": null,
   "metadata": {
    "collapsed": true
   },
   "outputs": [],
   "source": []
  },
  {
   "cell_type": "markdown",
   "metadata": {},
   "source": [
    "## Saving the results\n",
    "\n",
    "### Loop through each `tr` to create a list of dictionaries\n",
    "\n",
    "Each dictionary must contain\n",
    "\n",
    "- Operator ID\n",
    "- Operator name\n",
    "- Mine name\n",
    "- State\n",
    "- Mine type\n",
    "- Coal or metal\n",
    "- Status\n",
    "- Commodity\n",
    "\n",
    "Create a new dictionary for each row."
   ]
  },
  {
   "cell_type": "code",
   "execution_count": null,
   "metadata": {
    "collapsed": true
   },
   "outputs": [],
   "source": []
  },
  {
   "cell_type": "markdown",
   "metadata": {},
   "source": [
    "### Save that to a CSV named `dirt-operators.csv`"
   ]
  },
  {
   "cell_type": "code",
   "execution_count": null,
   "metadata": {
    "collapsed": true
   },
   "outputs": [],
   "source": []
  },
  {
   "cell_type": "markdown",
   "metadata": {},
   "source": [
    "### Open the CSV file and examine the first few.\n",
    "\n",
    "Make sure you didn't save that extra weird unnamed index column."
   ]
  },
  {
   "cell_type": "code",
   "execution_count": null,
   "metadata": {
    "collapsed": true
   },
   "outputs": [],
   "source": []
  }
 ],
 "metadata": {
  "kernelspec": {
   "display_name": "Python 3",
   "language": "python",
   "name": "python3"
  },
  "language_info": {
   "codemirror_mode": {
    "name": "ipython",
    "version": 3
   },
   "file_extension": ".py",
   "mimetype": "text/x-python",
   "name": "python",
   "nbconvert_exporter": "python",
   "pygments_lexer": "ipython3",
   "version": "3.6.4"
  }
 },
 "nbformat": 4,
 "nbformat_minor": 2
}
