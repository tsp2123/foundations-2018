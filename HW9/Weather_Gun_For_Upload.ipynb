{
 "cells": [
  {
   "cell_type": "code",
   "execution_count": null,
   "metadata": {},
   "outputs": [],
   "source": [
    "import requests\n",
    "\n",
    "import datetime\n",
    "right_now = datetime.datetime.now()\n",
    "right_now\n",
    "\n",
    "response = requests.get('https://api.darksky.net/forecast/*API***/40.730610,-73.935242?units=si')"
   ]
  },
  {
   "cell_type": "code",
   "execution_count": null,
   "metadata": {},
   "outputs": [],
   "source": [
    "#Data and Variables for Temperature Feeling\n",
    "TEMP_FEELING = ''\n",
    "\n",
    "daily_data = New_York['daily']['data'][0]\n",
    "\n",
    "HIGH_TEMP = daily_data['temperatureMax']\n",
    "\n",
    "LOW_TEMP = daily_data['temperatureLow']\n",
    "\n",
    "if HIGH_TEMP > 30:\n",
    "    TEMP_FEELING = \"It's going to be a hot day out. Wear sunscreen.\"\n",
    "\n",
    "elif HIGH_TEMP< 18:\n",
    "    TEMP_FEELING = \"Brrr...what is this — Canada?\"\n",
    "else:\n",
    "    TEMP_FEELING = \"It's warm outside.\"\n",
    "    \n",
    "#Data and variables for PERCIPTIATION \n",
    "\n",
    "RAIN_WARNING = \"  \"\n",
    "\n",
    "PERCIPITATION = daily_data['precipProbability'] * 100\n",
    "\n",
    "if PERCIPITATION > 90:\n",
    "    RAIN_WARNING = \"IT'S GONNA RAIN\"\n",
    "elif PERCIPITATION > 50 and PERCIPITATION < 90:\n",
    "    RAIN_WARNING = \"Carry your umbrella. You might get wet.\"\n",
    "else:\n",
    "    RAIN_WARNING = \"You dont need to bring an umbrella today.\"\n",
    "    \n",
    "#Data and variables for SUMMARY\n",
    "\n",
    "SUMMARY = New_York['currently']['summary']\n",
    "\n",
    "#Data and variables for current temperature\n",
    "\n",
    "TEMPERATURE = New_York['currently']['temperature'] \n",
    "\n",
    "\n",
    "#Testing Print Statement\n",
    "\n",
    "# print(\"Right now it is\", TEMPERATURE, \"degrees out and\", SUMMARY + \".\" , TEMP_FEELING, \"We'll be experiencing a high of\", HIGH_TEMP, \"and a low of\", LOW_TEMP, RAIN_WARNING)\n",
    "\n",
    "daily_text = \"Right now it is {} degrees out and {}. {} We'll be experiencing a high of {} and a low of {} {}\".format(TEMPERATURE, SUMMARY, TEMP_FEELING, HIGH_TEMP, LOW_TEMP, RAIN_WARNING)\n",
    "\n",
    "#Email subject\n",
    "\n",
    "DATE = right_now.strftime(\"%Y-%m-%d_%H_%M_%S\")\n",
    "\n",
    "email_subject = \"Daily Weather Alert {}\".format(DATE)\n",
    "\n",
    "\n",
    "requests.post(\n",
    "        \"https://api.mailgun.net/v3/....../\",\n",
    "        auth=(\"api\", \".....\"),\n",
    "        data={\"from\": \".....\",\n",
    "              \"to\": [\"....\"],\n",
    "              \"subject\": email_subject,\n",
    "              \"text\": daily_text}) "
   ]
  }
 ],
 "metadata": {
  "kernelspec": {
   "display_name": "Python 3",
   "language": "python",
   "name": "python3"
  },
  "language_info": {
   "codemirror_mode": {
    "name": "ipython",
    "version": 3
   },
   "file_extension": ".py",
   "mimetype": "text/x-python",
   "name": "python",
   "nbconvert_exporter": "python",
   "pygments_lexer": "ipython3",
   "version": "3.6.4"
  }
 },
 "nbformat": 4,
 "nbformat_minor": 2
}
