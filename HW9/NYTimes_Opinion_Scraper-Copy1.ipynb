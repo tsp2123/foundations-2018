{
 "cells": [
  {
   "cell_type": "code",
   "execution_count": 20,
   "metadata": {},
   "outputs": [],
   "source": [
    "from selenium import webdriver\n",
    "from selenium.webdriver.common.keys import Keys\n",
    "from selenium.webdriver.support.ui import Select\n",
    "from selenium.webdriver.support.ui import WebDriverWait\n",
    "\n",
    "from pyvirtualdisplay import Display\n",
    "\n",
    "import pandas as pd\n",
    "\n",
    "import requests\n",
    "\n",
    "import datetime\n",
    "right_now = datetime.datetime.now()\n"
   ]
  },
  {
   "cell_type": "code",
   "execution_count": null,
   "metadata": {},
   "outputs": [],
   "source": [
    "display = Display(visible=0, size=(800, 600))\n",
    "\n",
    "display.start()\n",
    "\n",
    "options = webdriver.ChromeOptions()\n",
    "\n",
    "options.add_argument('--no-sandbox')"
   ]
  },
  {
   "cell_type": "code",
   "execution_count": 16,
   "metadata": {},
   "outputs": [],
   "source": [
    "driver = webdriver.Chrome()\n",
    "\n",
    "\n",
    "driver.get('https://www.nytimes.com/')"
   ]
  },
  {
   "cell_type": "code",
   "execution_count": 17,
   "metadata": {},
   "outputs": [
    {
     "data": {
      "text/plain": [
       "<Response [200]>"
      ]
     },
     "execution_count": 17,
     "metadata": {},
     "output_type": "execute_result"
    }
   ],
   "source": [
    "opinion_article = driver.find_element_by_class_name('opinion').find_elements_by_tag_name('article')\n",
    "\n",
    "\n",
    "DATE = right_now.strftime(\"%Y-%m-%d_%H_%M_%S\")\n",
    "\n",
    "email_subject = \"Daily Opinions Alert {}\".format(DATE)\n",
    "\n",
    "daily_text = \"Attached is your briefing for {}\".format(DATE)\n",
    "\n",
    "NY_TIMES_OPINION = []\n",
    "\n",
    "for opinion in opinion_article[:-1]:\n",
    "    row = {}\n",
    "    \n",
    "    article_information = opinion.text.split(\"\\n\")\n",
    "    url = opinion.find_element_by_tag_name('a').get_attribute('href')\n",
    "    \n",
    "    row['article_information'] = article_information\n",
    "    row['url'] =  url\n",
    "    \n",
    "    NY_TIMES_OPINION.append(row)\n",
    "    \n",
    "df = pd.DataFrame(NY_TIMES_OPINION)\n",
    "\n",
    "df.to_csv(\"nytimes-opinion-articles {}.csv\".format(DATE) , index=False)\n",
    "\n",
    "\n",
    "\n",
    "requests.post(\n",
    "        \"https://api.mailgun.net/v3/******.mailgun.org/messages\",\n",
    "        auth=(\"api\", \"****************\"),\n",
    "        files=[(\"attachment\", open(\"nytimes-opinion-articles {}.csv\".format(DATE)))],\n",
    "        data={\"from\": \"TEKENDRA PARMAR <tikinparmar@gmail.com>\",\n",
    "              \"to\": [\"tikinparmar@gmail.com\"],\n",
    "              \"subject\": email_subject,\n",
    "              \"text\": daily_text}) \n"
   ]
  },
  {
   "cell_type": "code",
   "execution_count": null,
   "metadata": {},
   "outputs": [],
   "source": []
  }
 ],
 "metadata": {
  "kernelspec": {
   "display_name": "Python 3",
   "language": "python",
   "name": "python3"
  },
  "language_info": {
   "codemirror_mode": {
    "name": "ipython",
    "version": 3
   },
   "file_extension": ".py",
   "mimetype": "text/x-python",
   "name": "python",
   "nbconvert_exporter": "python",
   "pygments_lexer": "ipython3",
   "version": "3.6.4"
  }
 },
 "nbformat": 4,
 "nbformat_minor": 2
}
